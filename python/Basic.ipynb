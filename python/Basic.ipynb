{
 "cells": [
  {
   "cell_type": "markdown",
   "metadata": {
    "deletable": true,
    "editable": true
   },
   "source": [
    "# Connect to database "
   ]
  },
  {
   "cell_type": "code",
   "execution_count": 1,
   "metadata": {
    "collapsed": false,
    "deletable": true,
    "editable": true
   },
   "outputs": [
    {
     "name": "stdout",
     "output_type": "stream",
     "text": [
      "DataJoint 0.5.0 (March 8, 2017)\n",
      "No config file found, using default settings.\n"
     ]
    }
   ],
   "source": [
    "import datajoint as dj"
   ]
  },
  {
   "cell_type": "code",
   "execution_count": 2,
   "metadata": {
    "collapsed": true,
    "deletable": true,
    "editable": true
   },
   "outputs": [],
   "source": [
    "dj.config['database.host'] = 'tutorial-db.datajoint.io'\n",
    "dj.config['database.user'] = 'janelia'"
   ]
  },
  {
   "cell_type": "markdown",
   "metadata": {
    "deletable": true,
    "editable": true
   },
   "source": [
    "# Create a schema "
   ]
  },
  {
   "cell_type": "code",
   "execution_count": 3,
   "metadata": {
    "collapsed": false,
    "deletable": true,
    "editable": true
   },
   "outputs": [
    {
     "name": "stdout",
     "output_type": "stream",
     "text": [
      "Please enter DataJoint password: ········\n",
      "Connecting janelia@tutorial-db.datajoint.io:3306\n"
     ]
    }
   ],
   "source": [
    "schema = dj.schema('janelia_basic', locals())"
   ]
  },
  {
   "cell_type": "markdown",
   "metadata": {
    "deletable": true,
    "editable": true
   },
   "source": [
    "# Create lookup tables \n",
    "Lookup tables contain basic facts that are not specific to an experiment and are fairly persistent.  Their contents are often used in pull-down menus.  Lookup tables are commonly populated from their `contents` method.  In entity-relatationship diagrams they are shown in gray. The decision which tables are `Lookup` and which tables are `Manual` can be somewhat arbitrary."
   ]
  },
  {
   "cell_type": "code",
   "execution_count": 4,
   "metadata": {
    "collapsed": false,
    "deletable": true,
    "editable": true
   },
   "outputs": [],
   "source": [
    "@schema\n",
    "class User(dj.Lookup):\n",
    "    definition = \"\"\"\n",
    "    # users in the lab\n",
    "    username : varchar(20)   # user in the lab\n",
    "    ---\n",
    "    first_name  : varchar(20)   # user first name\n",
    "    last_name   : varchar(20)   # user last name\n",
    "    \"\"\"\n",
    "    contents = [\n",
    "        ['cajal', 'Santiago', 'Cajal'],\n",
    "        ['hubel', 'David', 'Hubel'],\n",
    "        ['wiesel', 'Torsten', 'Wiesel']\n",
    "    ]"
   ]
  },
  {
   "cell_type": "markdown",
   "metadata": {
    "deletable": true,
    "editable": true
   },
   "source": [
    "Preview the contents of the table:"
   ]
  },
  {
   "cell_type": "code",
   "execution_count": 5,
   "metadata": {
    "collapsed": false,
    "deletable": true,
    "editable": true
   },
   "outputs": [
    {
     "data": {
      "text/html": [
       "\n",
       "        \n",
       "        <style type=\"text/css\">\n",
       "            .Relation{\n",
       "                border-collapse:collapse;\n",
       "            }\n",
       "            .Relation th{\n",
       "                background: #A0A0A0; color: #ffffff; padding:4px; border:#f0e0e0 1px solid;\n",
       "                font-weight: normal; font-family: monospace; font-size: 75%;\n",
       "            }\n",
       "            .Relation td{\n",
       "                padding:4px; border:#f0e0e0 1px solid; font-size:75%;\n",
       "            }\n",
       "            .Relation tr:nth-child(odd){\n",
       "                background: #ffffff;\n",
       "            }\n",
       "            .Relation tr:nth-child(even){\n",
       "                background: #f3f1ff;\n",
       "            }\n",
       "            /* Tooltip container */\n",
       "            .djtooltip {\n",
       "            }\n",
       "\n",
       "            /* Tooltip text */\n",
       "            .djtooltip .djtooltiptext {\n",
       "                visibility: hidden;\n",
       "                width: 120px;\n",
       "                background-color: black;\n",
       "                color: #fff;\n",
       "                text-align: center;\n",
       "                padding: 5px 0;\n",
       "                border-radius: 6px;\n",
       "\n",
       "                /* Position the tooltip text - see examples below! */\n",
       "                position: absolute;\n",
       "                z-index: 1;\n",
       "            }\n",
       "\n",
       "\n",
       "            #primary {\n",
       "                font-weight: bold;\n",
       "                color: black;\n",
       "            }\n",
       "\n",
       "            #nonprimary {\n",
       "                font-weight: normal;\n",
       "                color: white;\n",
       "            }\n",
       "\n",
       "            /* Show the tooltip text when you mouse over the tooltip container */\n",
       "            .djtooltip:hover .djtooltiptext {\n",
       "                visibility: visible;\n",
       "            }\n",
       "        </style>\n",
       "        \n",
       "        <b>users in the lab</b>\n",
       "            <div style=\"max-height:1000px;max-width:1500px;overflow:auto;\">\n",
       "            <table border=\"1\" class=\"Relation\">\n",
       "                <thead> <tr style=\"text-align: right;\"> <th> <div class=\"djtooltip\">\n",
       "                                <p id=\"primary\">username</p>\n",
       "                                <span class=\"djtooltiptext\">user in the lab</span>\n",
       "                            </div></th><th><div class=\"djtooltip\">\n",
       "                                <p id=\"nonprimary\">first_name</p>\n",
       "                                <span class=\"djtooltiptext\">user first name</span>\n",
       "                            </div></th><th><div class=\"djtooltip\">\n",
       "                                <p id=\"nonprimary\">last_name</p>\n",
       "                                <span class=\"djtooltiptext\">user last name</span>\n",
       "                            </div> </th> </tr> </thead>\n",
       "                <tbody> <tr> <td>cajal</td>\n",
       "<td>Santiago</td>\n",
       "<td>Cajal</td></tr><tr><td>hubel</td>\n",
       "<td>David</td>\n",
       "<td>Hubel</td></tr><tr><td>wiesel</td>\n",
       "<td>Torsten</td>\n",
       "<td>Wiesel</td> </tr> </tbody>\n",
       "            </table>\n",
       "            \n",
       "            <p>3 tuples</p></div>\n",
       "            "
      ],
      "text/plain": [
       "*username    first_name     last_name    \n",
       "+----------+ +------------+ +-----------+\n",
       "cajal        Santiago       Cajal        \n",
       "hubel        David          Hubel        \n",
       "wiesel       Torsten        Wiesel       \n",
       " (3 tuples)"
      ]
     },
     "execution_count": 5,
     "metadata": {},
     "output_type": "execute_result"
    }
   ],
   "source": [
    "User()"
   ]
  },
  {
   "cell_type": "code",
   "execution_count": 6,
   "metadata": {
    "collapsed": true,
    "deletable": true,
    "editable": true
   },
   "outputs": [],
   "source": [
    "@schema\n",
    "class Anesthesia(dj.Lookup):\n",
    "    definition = \"\"\"\n",
    "    # forms of anesthesia\n",
    "    anesthesia  :  varchar(16)   # short name of anesthesia method\n",
    "    -----\n",
    "    anesthesia_protocol  : varchar(20)  # reference to detailed description\n",
    "    \"\"\"\n",
    "    \n",
    "    contents = [\n",
    "        ['awake', ''],\n",
    "        ['fentanyl', ''],\n",
    "        ['isoflurane', '']\n",
    "    ]"
   ]
  },
  {
   "cell_type": "code",
   "execution_count": 7,
   "metadata": {
    "collapsed": false,
    "deletable": true,
    "editable": true
   },
   "outputs": [
    {
     "data": {
      "text/html": [
       "\n",
       "        \n",
       "        <style type=\"text/css\">\n",
       "            .Relation{\n",
       "                border-collapse:collapse;\n",
       "            }\n",
       "            .Relation th{\n",
       "                background: #A0A0A0; color: #ffffff; padding:4px; border:#f0e0e0 1px solid;\n",
       "                font-weight: normal; font-family: monospace; font-size: 75%;\n",
       "            }\n",
       "            .Relation td{\n",
       "                padding:4px; border:#f0e0e0 1px solid; font-size:75%;\n",
       "            }\n",
       "            .Relation tr:nth-child(odd){\n",
       "                background: #ffffff;\n",
       "            }\n",
       "            .Relation tr:nth-child(even){\n",
       "                background: #f3f1ff;\n",
       "            }\n",
       "            /* Tooltip container */\n",
       "            .djtooltip {\n",
       "            }\n",
       "\n",
       "            /* Tooltip text */\n",
       "            .djtooltip .djtooltiptext {\n",
       "                visibility: hidden;\n",
       "                width: 120px;\n",
       "                background-color: black;\n",
       "                color: #fff;\n",
       "                text-align: center;\n",
       "                padding: 5px 0;\n",
       "                border-radius: 6px;\n",
       "\n",
       "                /* Position the tooltip text - see examples below! */\n",
       "                position: absolute;\n",
       "                z-index: 1;\n",
       "            }\n",
       "\n",
       "\n",
       "            #primary {\n",
       "                font-weight: bold;\n",
       "                color: black;\n",
       "            }\n",
       "\n",
       "            #nonprimary {\n",
       "                font-weight: normal;\n",
       "                color: white;\n",
       "            }\n",
       "\n",
       "            /* Show the tooltip text when you mouse over the tooltip container */\n",
       "            .djtooltip:hover .djtooltiptext {\n",
       "                visibility: visible;\n",
       "            }\n",
       "        </style>\n",
       "        \n",
       "        <b>forms of anesthesia</b>\n",
       "            <div style=\"max-height:1000px;max-width:1500px;overflow:auto;\">\n",
       "            <table border=\"1\" class=\"Relation\">\n",
       "                <thead> <tr style=\"text-align: right;\"> <th> <div class=\"djtooltip\">\n",
       "                                <p id=\"primary\">anesthesia</p>\n",
       "                                <span class=\"djtooltiptext\">short name of anesthesia method</span>\n",
       "                            </div></th><th><div class=\"djtooltip\">\n",
       "                                <p id=\"nonprimary\">anesthesia_protocol</p>\n",
       "                                <span class=\"djtooltiptext\">reference to detailed description</span>\n",
       "                            </div> </th> </tr> </thead>\n",
       "                <tbody> <tr> <td>awake</td>\n",
       "<td></td></tr><tr><td>fentanyl</td>\n",
       "<td></td></tr><tr><td>isoflurane</td>\n",
       "<td></td> </tr> </tbody>\n",
       "            </table>\n",
       "            \n",
       "            <p>3 tuples</p></div>\n",
       "            "
      ],
      "text/plain": [
       "*anesthesia    anesthesia_pro\n",
       "+------------+ +------------+\n",
       "awake                        \n",
       "fentanyl                     \n",
       "isoflurane                   \n",
       " (3 tuples)"
      ]
     },
     "execution_count": 7,
     "metadata": {},
     "output_type": "execute_result"
    }
   ],
   "source": [
    "Anesthesia()"
   ]
  },
  {
   "cell_type": "code",
   "execution_count": 8,
   "metadata": {
    "collapsed": true,
    "deletable": true,
    "editable": true
   },
   "outputs": [],
   "source": [
    "@schema\n",
    "class Rig(dj.Lookup):\n",
    "    definition = \"\"\"\n",
    "    # Experimental rigs (setups) used in the lab\n",
    "    rig : char(6)  # experimental rig \n",
    "    \"\"\"\n",
    "    contents = [\n",
    "        ['J2p1'], ['J2p2']\n",
    "    ]"
   ]
  },
  {
   "cell_type": "code",
   "execution_count": 9,
   "metadata": {
    "collapsed": false,
    "deletable": true,
    "editable": true
   },
   "outputs": [
    {
     "data": {
      "text/html": [
       "\n",
       "        \n",
       "        <style type=\"text/css\">\n",
       "            .Relation{\n",
       "                border-collapse:collapse;\n",
       "            }\n",
       "            .Relation th{\n",
       "                background: #A0A0A0; color: #ffffff; padding:4px; border:#f0e0e0 1px solid;\n",
       "                font-weight: normal; font-family: monospace; font-size: 75%;\n",
       "            }\n",
       "            .Relation td{\n",
       "                padding:4px; border:#f0e0e0 1px solid; font-size:75%;\n",
       "            }\n",
       "            .Relation tr:nth-child(odd){\n",
       "                background: #ffffff;\n",
       "            }\n",
       "            .Relation tr:nth-child(even){\n",
       "                background: #f3f1ff;\n",
       "            }\n",
       "            /* Tooltip container */\n",
       "            .djtooltip {\n",
       "            }\n",
       "\n",
       "            /* Tooltip text */\n",
       "            .djtooltip .djtooltiptext {\n",
       "                visibility: hidden;\n",
       "                width: 120px;\n",
       "                background-color: black;\n",
       "                color: #fff;\n",
       "                text-align: center;\n",
       "                padding: 5px 0;\n",
       "                border-radius: 6px;\n",
       "\n",
       "                /* Position the tooltip text - see examples below! */\n",
       "                position: absolute;\n",
       "                z-index: 1;\n",
       "            }\n",
       "\n",
       "\n",
       "            #primary {\n",
       "                font-weight: bold;\n",
       "                color: black;\n",
       "            }\n",
       "\n",
       "            #nonprimary {\n",
       "                font-weight: normal;\n",
       "                color: white;\n",
       "            }\n",
       "\n",
       "            /* Show the tooltip text when you mouse over the tooltip container */\n",
       "            .djtooltip:hover .djtooltiptext {\n",
       "                visibility: visible;\n",
       "            }\n",
       "        </style>\n",
       "        \n",
       "        <b>Experimental rigs (setups) used in the lab</b>\n",
       "            <div style=\"max-height:1000px;max-width:1500px;overflow:auto;\">\n",
       "            <table border=\"1\" class=\"Relation\">\n",
       "                <thead> <tr style=\"text-align: right;\"> <th> <div class=\"djtooltip\">\n",
       "                                <p id=\"primary\">rig</p>\n",
       "                                <span class=\"djtooltiptext\">experimental rig</span>\n",
       "                            </div> </th> </tr> </thead>\n",
       "                <tbody> <tr> <td>J2p1</td></tr><tr><td>J2p2</td> </tr> </tbody>\n",
       "            </table>\n",
       "            \n",
       "            <p>2 tuples</p></div>\n",
       "            "
      ],
      "text/plain": [
       "*rig    \n",
       "+------+\n",
       "J2p1    \n",
       "J2p2    \n",
       " (2 tuples)"
      ]
     },
     "execution_count": 9,
     "metadata": {},
     "output_type": "execute_result"
    }
   ],
   "source": [
    "Rig()"
   ]
  },
  {
   "cell_type": "code",
   "execution_count": 10,
   "metadata": {
    "collapsed": false,
    "deletable": true,
    "editable": true
   },
   "outputs": [],
   "source": [
    "@schema\n",
    "class Species(dj.Lookup):\n",
    "    definition = \"\"\"\n",
    "    # species\n",
    "    species : varchar(16)   # short colloqial name\n",
    "    ---\n",
    "    species_formal :  varchar(255)   # binomial nomenclature \n",
    "    \"\"\"\n",
    "    contents = [\n",
    "        ['mouse', 'mus musculus'],\n",
    "        ['human', 'homo sapiens'],\n",
    "        ['marmoset', 'callithrix jacchus']\n",
    "    ]"
   ]
  },
  {
   "cell_type": "code",
   "execution_count": 11,
   "metadata": {
    "collapsed": false,
    "deletable": true,
    "editable": true
   },
   "outputs": [
    {
     "data": {
      "text/html": [
       "\n",
       "        \n",
       "        <style type=\"text/css\">\n",
       "            .Relation{\n",
       "                border-collapse:collapse;\n",
       "            }\n",
       "            .Relation th{\n",
       "                background: #A0A0A0; color: #ffffff; padding:4px; border:#f0e0e0 1px solid;\n",
       "                font-weight: normal; font-family: monospace; font-size: 75%;\n",
       "            }\n",
       "            .Relation td{\n",
       "                padding:4px; border:#f0e0e0 1px solid; font-size:75%;\n",
       "            }\n",
       "            .Relation tr:nth-child(odd){\n",
       "                background: #ffffff;\n",
       "            }\n",
       "            .Relation tr:nth-child(even){\n",
       "                background: #f3f1ff;\n",
       "            }\n",
       "            /* Tooltip container */\n",
       "            .djtooltip {\n",
       "            }\n",
       "\n",
       "            /* Tooltip text */\n",
       "            .djtooltip .djtooltiptext {\n",
       "                visibility: hidden;\n",
       "                width: 120px;\n",
       "                background-color: black;\n",
       "                color: #fff;\n",
       "                text-align: center;\n",
       "                padding: 5px 0;\n",
       "                border-radius: 6px;\n",
       "\n",
       "                /* Position the tooltip text - see examples below! */\n",
       "                position: absolute;\n",
       "                z-index: 1;\n",
       "            }\n",
       "\n",
       "\n",
       "            #primary {\n",
       "                font-weight: bold;\n",
       "                color: black;\n",
       "            }\n",
       "\n",
       "            #nonprimary {\n",
       "                font-weight: normal;\n",
       "                color: white;\n",
       "            }\n",
       "\n",
       "            /* Show the tooltip text when you mouse over the tooltip container */\n",
       "            .djtooltip:hover .djtooltiptext {\n",
       "                visibility: visible;\n",
       "            }\n",
       "        </style>\n",
       "        \n",
       "        <b>species</b>\n",
       "            <div style=\"max-height:1000px;max-width:1500px;overflow:auto;\">\n",
       "            <table border=\"1\" class=\"Relation\">\n",
       "                <thead> <tr style=\"text-align: right;\"> <th> <div class=\"djtooltip\">\n",
       "                                <p id=\"primary\">species</p>\n",
       "                                <span class=\"djtooltiptext\">short colloqial name</span>\n",
       "                            </div></th><th><div class=\"djtooltip\">\n",
       "                                <p id=\"nonprimary\">species_formal</p>\n",
       "                                <span class=\"djtooltiptext\">binomial nomenclature</span>\n",
       "                            </div> </th> </tr> </thead>\n",
       "                <tbody> <tr> <td>human</td>\n",
       "<td>homo sapiens</td></tr><tr><td>marmoset</td>\n",
       "<td>callithrix jacchus</td></tr><tr><td>mouse</td>\n",
       "<td>mus musculus</td> </tr> </tbody>\n",
       "            </table>\n",
       "            \n",
       "            <p>3 tuples</p></div>\n",
       "            "
      ],
      "text/plain": [
       "*species     species_formal\n",
       "+----------+ +------------+\n",
       "human        homo sapiens  \n",
       "marmoset     callithrix jac\n",
       "mouse        mus musculus  \n",
       " (3 tuples)"
      ]
     },
     "execution_count": 11,
     "metadata": {},
     "output_type": "execute_result"
    }
   ],
   "source": [
    "Species()"
   ]
  },
  {
   "cell_type": "code",
   "execution_count": 12,
   "metadata": {
    "collapsed": true,
    "deletable": true,
    "editable": true
   },
   "outputs": [],
   "source": [
    "@schema\n",
    "class Lens(dj.Lookup):\n",
    "    definition = \"\"\"\n",
    "    # Objective lens\n",
    "    lens : char(6)  # short name of objective lens\n",
    "    ---\n",
    "    na  : decimal(3,2)  # numerical aperture\n",
    "    wd  : decimal(4,2)  # (mm) working distance\n",
    "    \"\"\"\n",
    "    contents = [\n",
    "        ['10x', 0.6, 8.0],\n",
    "        ['16x', 0.8, 3.0],\n",
    "        ['25x', 1.1, 2.0],\n",
    "    ]"
   ]
  },
  {
   "cell_type": "code",
   "execution_count": 13,
   "metadata": {
    "collapsed": false,
    "deletable": true,
    "editable": true
   },
   "outputs": [
    {
     "data": {
      "text/html": [
       "\n",
       "        \n",
       "        <style type=\"text/css\">\n",
       "            .Relation{\n",
       "                border-collapse:collapse;\n",
       "            }\n",
       "            .Relation th{\n",
       "                background: #A0A0A0; color: #ffffff; padding:4px; border:#f0e0e0 1px solid;\n",
       "                font-weight: normal; font-family: monospace; font-size: 75%;\n",
       "            }\n",
       "            .Relation td{\n",
       "                padding:4px; border:#f0e0e0 1px solid; font-size:75%;\n",
       "            }\n",
       "            .Relation tr:nth-child(odd){\n",
       "                background: #ffffff;\n",
       "            }\n",
       "            .Relation tr:nth-child(even){\n",
       "                background: #f3f1ff;\n",
       "            }\n",
       "            /* Tooltip container */\n",
       "            .djtooltip {\n",
       "            }\n",
       "\n",
       "            /* Tooltip text */\n",
       "            .djtooltip .djtooltiptext {\n",
       "                visibility: hidden;\n",
       "                width: 120px;\n",
       "                background-color: black;\n",
       "                color: #fff;\n",
       "                text-align: center;\n",
       "                padding: 5px 0;\n",
       "                border-radius: 6px;\n",
       "\n",
       "                /* Position the tooltip text - see examples below! */\n",
       "                position: absolute;\n",
       "                z-index: 1;\n",
       "            }\n",
       "\n",
       "\n",
       "            #primary {\n",
       "                font-weight: bold;\n",
       "                color: black;\n",
       "            }\n",
       "\n",
       "            #nonprimary {\n",
       "                font-weight: normal;\n",
       "                color: white;\n",
       "            }\n",
       "\n",
       "            /* Show the tooltip text when you mouse over the tooltip container */\n",
       "            .djtooltip:hover .djtooltiptext {\n",
       "                visibility: visible;\n",
       "            }\n",
       "        </style>\n",
       "        \n",
       "        <b>Objective lens</b>\n",
       "            <div style=\"max-height:1000px;max-width:1500px;overflow:auto;\">\n",
       "            <table border=\"1\" class=\"Relation\">\n",
       "                <thead> <tr style=\"text-align: right;\"> <th> <div class=\"djtooltip\">\n",
       "                                <p id=\"primary\">lens</p>\n",
       "                                <span class=\"djtooltiptext\">short name of objective lens</span>\n",
       "                            </div></th><th><div class=\"djtooltip\">\n",
       "                                <p id=\"nonprimary\">na</p>\n",
       "                                <span class=\"djtooltiptext\">numerical aperture</span>\n",
       "                            </div></th><th><div class=\"djtooltip\">\n",
       "                                <p id=\"nonprimary\">wd</p>\n",
       "                                <span class=\"djtooltiptext\">(mm) working distance</span>\n",
       "                            </div> </th> </tr> </thead>\n",
       "                <tbody> <tr> <td>10x</td>\n",
       "<td>0.60</td>\n",
       "<td>8.00</td></tr><tr><td>16x</td>\n",
       "<td>0.80</td>\n",
       "<td>3.00</td></tr><tr><td>25x</td>\n",
       "<td>1.10</td>\n",
       "<td>2.00</td> </tr> </tbody>\n",
       "            </table>\n",
       "            \n",
       "            <p>3 tuples</p></div>\n",
       "            "
      ],
      "text/plain": [
       "*lens    na       wd      \n",
       "+------+ +------+ +------+\n",
       "10x      0.60     8.00    \n",
       "16x      0.80     3.00    \n",
       "25x      1.10     2.00    \n",
       " (3 tuples)"
      ]
     },
     "execution_count": 13,
     "metadata": {},
     "output_type": "execute_result"
    }
   ],
   "source": [
    "Lens()"
   ]
  },
  {
   "cell_type": "markdown",
   "metadata": {
    "deletable": true,
    "editable": true
   },
   "source": [
    "# Define manual tables\n",
    "Manual tables are populated during experiment through a variety of interfaces.  Not all manual information is entered by typing.  Automated software can enter it directly into the database.  What makes it manual is that they do not perform any computations inside the pipeline."
   ]
  },
  {
   "cell_type": "code",
   "execution_count": 14,
   "metadata": {
    "collapsed": true,
    "deletable": true,
    "editable": true
   },
   "outputs": [],
   "source": [
    "@schema\n",
    "class Animal(dj.Manual):\n",
    "    definition = \"\"\"\n",
    "    # information about animal \n",
    "    animal_id : int  # animal id assigned by the lab\n",
    "    ---\n",
    "    -> Species\n",
    "    date_of_birth=null : date  # YYYY-MM-DD optional\n",
    "    sex='' : enum('M', 'F', '')   # leave empty if unspecified\n",
    "    \"\"\""
   ]
  },
  {
   "cell_type": "code",
   "execution_count": 15,
   "metadata": {
    "collapsed": false,
    "deletable": true,
    "editable": true
   },
   "outputs": [],
   "source": [
    "@schema\n",
    "class Session(dj.Manual):\n",
    "    definition = \"\"\"\n",
    "    # Experiment Session\n",
    "    -> Animal\n",
    "    session  : smallint  # session number for the animal\n",
    "    --- \n",
    "    session_date : date  # YYYY-MM-DD\n",
    "    -> User\n",
    "    -> Anesthesia\n",
    "    -> Rig\n",
    "    \"\"\""
   ]
  },
  {
   "cell_type": "code",
   "execution_count": 16,
   "metadata": {
    "collapsed": false,
    "deletable": true,
    "editable": true
   },
   "outputs": [],
   "source": [
    "@schema \n",
    "class Scan(dj.Manual):\n",
    "    definition = \"\"\"\n",
    "    # Two-photon imaging scan\n",
    "    -> Session \n",
    "    scan : smallint  # scan number within the session\n",
    "    ---\n",
    "    -> Lens\n",
    "    laser_wavelength : decimal(5,1)  # um\n",
    "    laser_power      : decimal(4,1)  # mW    \n",
    "    \"\"\""
   ]
  },
  {
   "cell_type": "markdown",
   "metadata": {
    "deletable": true,
    "editable": true
   },
   "source": [
    "# Entity Relationship Diagram"
   ]
  },
  {
   "cell_type": "code",
   "execution_count": 17,
   "metadata": {
    "collapsed": false,
    "deletable": true,
    "editable": true
   },
   "outputs": [
    {
     "data": {
      "image/png": "[encoded data removed]",
      "text/plain": [
       "<matplotlib.figure.Figure at 0x7f7c89f59c50>"
      ]
     },
     "metadata": {},
     "output_type": "display_data"
    }
   ],
   "source": [
    "dj.ERD(schema).draw()"
   ]
  },
  {
   "cell_type": "markdown",
   "metadata": {
    "deletable": true,
    "editable": true
   },
   "source": [
    "# Enter fake data"
   ]
  },
  {
   "cell_type": "markdown",
   "metadata": {
    "deletable": true,
    "editable": true
   },
   "source": [
    "Add row a dict:"
   ]
  },
  {
   "cell_type": "code",
   "execution_count": 18,
   "metadata": {
    "collapsed": false,
    "deletable": true,
    "editable": true
   },
   "outputs": [],
   "source": [
    "Animal().insert1(dict(animal_id=1010, species='mouse', date_of_birth=\"2017-04-01\", sex=\"M\"))"
   ]
  },
  {
   "cell_type": "markdown",
   "metadata": {
    "deletable": true,
    "editable": true
   },
   "source": [
    "Add row as a sequence"
   ]
  },
  {
   "cell_type": "code",
   "execution_count": 19,
   "metadata": {
    "collapsed": false,
    "deletable": true,
    "editable": true
   },
   "outputs": [],
   "source": [
    "Animal().insert1([1011, 'mouse', \"2017-04-02\", \"F\"])"
   ]
  },
  {
   "cell_type": "markdown",
   "metadata": {
    "deletable": true,
    "editable": true
   },
   "source": [
    "Add multiple rows at once:"
   ]
  },
  {
   "cell_type": "code",
   "execution_count": 20,
   "metadata": {
    "collapsed": false,
    "deletable": true,
    "editable": true
   },
   "outputs": [],
   "source": [
    "Animal().insert((\n",
    "    [1012, 'mouse', '2017-04-03', 'F'], \n",
    "    [1013, 'mouse', '2017-04-03', 'M'],\n",
    "    [1014, 'mouse', '2017-04-03', 'M']))"
   ]
  },
  {
   "cell_type": "markdown",
   "metadata": {
    "deletable": true,
    "editable": true
   },
   "source": [
    "Add Sessions and Scans"
   ]
  },
  {
   "cell_type": "code",
   "execution_count": 21,
   "metadata": {
    "collapsed": false,
    "deletable": true,
    "editable": true
   },
   "outputs": [],
   "source": [
    "Session().insert([\n",
    "    [1010, 1, '2017-05-15', 'cajal', 'awake', 'J2p1'],\n",
    "    [1011, 1, '2017-05-16', 'cajal', 'awake', 'J2p1'],\n",
    "    [1011, 2, '2017-05-17', 'wiesel', 'awake', 'J2p1'],\n",
    "    [1012, 1, '2017-05-17', 'cajal', 'awake', 'J2p2'],\n",
    "    [1012, 2, '2017-05-18', 'cajal', 'awake', 'J2p1'],\n",
    "    [1012, 3, '2017-05-18', 'hubel', 'awake', 'J2p2'],\n",
    "    [1013, 1, '2017-05-18', 'cajal', 'awake', 'J2p1'],\n",
    "    [1014, 1, '2017-05-19', 'hubel', 'awake', 'J2p1'],\n",
    "])\n"
   ]
  },
  {
   "cell_type": "code",
   "execution_count": 23,
   "metadata": {
    "collapsed": false,
    "deletable": true,
    "editable": true
   },
   "outputs": [],
   "source": [
    "Scan().insert([\n",
    "    [1010, 1, 1, '10x', '960', '18.5'],\n",
    "    [1010, 1, 2, '10x', '960', '18.5'],\n",
    "    [1010, 1, 3, '10x', '960', '40.0'],\n",
    "    [1011, 1, 1, '16x', '980', '32.0'],\n",
    "    [1011, 1, 2, '16x', '980', '32.0'],\n",
    "    [1011, 2, 1, '25x', '960', '8.0'],\n",
    "    [1011, 2, 2, '25x', '960', '32.0'],\n",
    "    [1011, 2, 3, '10x', '960', '120.0'],\n",
    "    [1011, 2, 4, '16x', '920', '80.0'],\n",
    "    [1011, 2, 5, '16x', '920', '32.0'],\n",
    "    [1011, 2, 6, '16x', '920', '32.0'],\n",
    "    [1012, 1, 1, '16x', '920', '32.0'],\n",
    "    [1012, 1, 2, '16x', '920', '32.0'],\n",
    "    [1012, 2, 1, '16x', '800', '20.0'],\n",
    "    [1012, 2, 2, '16x', '800', '36.0'],\n",
    "    [1012, 2, 3, '16x', '800', '36.0'],\n",
    "    [1012, 3, 1, '16x', '880', '20.0'],\n",
    "    [1012, 3, 2, '16x', '800', '36.0'],\n",
    "    [1012, 3, 3, '25x', '800', '36.0'],\n",
    "    [1013, 1, 1, '10x', '860', '50.0'],\n",
    "    [1014, 1, 1, '16x', '1080', '85.5']])"
   ]
  },
  {
   "cell_type": "code",
   "execution_count": 26,
   "metadata": {
    "collapsed": false,
    "deletable": true,
    "editable": true
   },
   "outputs": [
    {
     "data": {
      "text/html": [
       "\n",
       "        \n",
       "        <style type=\"text/css\">\n",
       "            .Relation{\n",
       "                border-collapse:collapse;\n",
       "            }\n",
       "            .Relation th{\n",
       "                background: #A0A0A0; color: #ffffff; padding:4px; border:#f0e0e0 1px solid;\n",
       "                font-weight: normal; font-family: monospace; font-size: 75%;\n",
       "            }\n",
       "            .Relation td{\n",
       "                padding:4px; border:#f0e0e0 1px solid; font-size:75%;\n",
       "            }\n",
       "            .Relation tr:nth-child(odd){\n",
       "                background: #ffffff;\n",
       "            }\n",
       "            .Relation tr:nth-child(even){\n",
       "                background: #f3f1ff;\n",
       "            }\n",
       "            /* Tooltip container */\n",
       "            .djtooltip {\n",
       "            }\n",
       "\n",
       "            /* Tooltip text */\n",
       "            .djtooltip .djtooltiptext {\n",
       "                visibility: hidden;\n",
       "                width: 120px;\n",
       "                background-color: black;\n",
       "                color: #fff;\n",
       "                text-align: center;\n",
       "                padding: 5px 0;\n",
       "                border-radius: 6px;\n",
       "\n",
       "                /* Position the tooltip text - see examples below! */\n",
       "                position: absolute;\n",
       "                z-index: 1;\n",
       "            }\n",
       "\n",
       "\n",
       "            #primary {\n",
       "                font-weight: bold;\n",
       "                color: black;\n",
       "            }\n",
       "\n",
       "            #nonprimary {\n",
       "                font-weight: normal;\n",
       "                color: white;\n",
       "            }\n",
       "\n",
       "            /* Show the tooltip text when you mouse over the tooltip container */\n",
       "            .djtooltip:hover .djtooltiptext {\n",
       "                visibility: visible;\n",
       "            }\n",
       "        </style>\n",
       "        \n",
       "        \n",
       "            <div style=\"max-height:1000px;max-width:1500px;overflow:auto;\">\n",
       "            <table border=\"1\" class=\"Relation\">\n",
       "                <thead> <tr style=\"text-align: right;\"> <th> <div class=\"djtooltip\">\n",
       "                                <p id=\"primary\">animal_id</p>\n",
       "                                <span class=\"djtooltiptext\">animal id assigned by the lab</span>\n",
       "                            </div></th><th><div class=\"djtooltip\">\n",
       "                                <p id=\"primary\">session</p>\n",
       "                                <span class=\"djtooltiptext\">session number for the animal</span>\n",
       "                            </div></th><th><div class=\"djtooltip\">\n",
       "                                <p id=\"primary\">scan</p>\n",
       "                                <span class=\"djtooltiptext\">scan number within the session</span>\n",
       "                            </div></th><th><div class=\"djtooltip\">\n",
       "                                <p id=\"nonprimary\">species</p>\n",
       "                                <span class=\"djtooltiptext\">short colloqial name</span>\n",
       "                            </div></th><th><div class=\"djtooltip\">\n",
       "                                <p id=\"nonprimary\">date_of_birth</p>\n",
       "                                <span class=\"djtooltiptext\">YYYY-MM-DD optional</span>\n",
       "                            </div></th><th><div class=\"djtooltip\">\n",
       "                                <p id=\"nonprimary\">sex</p>\n",
       "                                <span class=\"djtooltiptext\">leave empty if unspecified</span>\n",
       "                            </div></th><th><div class=\"djtooltip\">\n",
       "                                <p id=\"nonprimary\">session_date</p>\n",
       "                                <span class=\"djtooltiptext\">YYYY-MM-DD</span>\n",
       "                            </div></th><th><div class=\"djtooltip\">\n",
       "                                <p id=\"nonprimary\">username</p>\n",
       "                                <span class=\"djtooltiptext\">user in the lab</span>\n",
       "                            </div></th><th><div class=\"djtooltip\">\n",
       "                                <p id=\"nonprimary\">anesthesia</p>\n",
       "                                <span class=\"djtooltiptext\">short name of anesthesia method</span>\n",
       "                            </div></th><th><div class=\"djtooltip\">\n",
       "                                <p id=\"nonprimary\">rig</p>\n",
       "                                <span class=\"djtooltiptext\">experimental rig</span>\n",
       "                            </div></th><th><div class=\"djtooltip\">\n",
       "                                <p id=\"nonprimary\">lens</p>\n",
       "                                <span class=\"djtooltiptext\">short name of objective lens</span>\n",
       "                            </div></th><th><div class=\"djtooltip\">\n",
       "                                <p id=\"nonprimary\">laser_wavelength</p>\n",
       "                                <span class=\"djtooltiptext\">um</span>\n",
       "                            </div></th><th><div class=\"djtooltip\">\n",
       "                                <p id=\"nonprimary\">laser_power</p>\n",
       "                                <span class=\"djtooltiptext\">mW</span>\n",
       "                            </div> </th> </tr> </thead>\n",
       "                <tbody> <tr> <td>1010</td>\n",
       "<td>1</td>\n",
       "<td>1</td>\n",
       "<td>mouse</td>\n",
       "<td>2017-04-01</td>\n",
       "<td>M</td>\n",
       "<td>2017-05-15</td>\n",
       "<td>cajal</td>\n",
       "<td>awake</td>\n",
       "<td>J2p1</td>\n",
       "<td>10x</td>\n",
       "<td>960.0</td>\n",
       "<td>18.5</td></tr><tr><td>1010</td>\n",
       "<td>1</td>\n",
       "<td>2</td>\n",
       "<td>mouse</td>\n",
       "<td>2017-04-01</td>\n",
       "<td>M</td>\n",
       "<td>2017-05-15</td>\n",
       "<td>cajal</td>\n",
       "<td>awake</td>\n",
       "<td>J2p1</td>\n",
       "<td>10x</td>\n",
       "<td>960.0</td>\n",
       "<td>18.5</td></tr><tr><td>1010</td>\n",
       "<td>1</td>\n",
       "<td>3</td>\n",
       "<td>mouse</td>\n",
       "<td>2017-04-01</td>\n",
       "<td>M</td>\n",
       "<td>2017-05-15</td>\n",
       "<td>cajal</td>\n",
       "<td>awake</td>\n",
       "<td>J2p1</td>\n",
       "<td>10x</td>\n",
       "<td>960.0</td>\n",
       "<td>40.0</td></tr><tr><td>1011</td>\n",
       "<td>1</td>\n",
       "<td>1</td>\n",
       "<td>mouse</td>\n",
       "<td>2017-04-02</td>\n",
       "<td>F</td>\n",
       "<td>2017-05-16</td>\n",
       "<td>cajal</td>\n",
       "<td>awake</td>\n",
       "<td>J2p1</td>\n",
       "<td>16x</td>\n",
       "<td>980.0</td>\n",
       "<td>32.0</td></tr><tr><td>1011</td>\n",
       "<td>1</td>\n",
       "<td>2</td>\n",
       "<td>mouse</td>\n",
       "<td>2017-04-02</td>\n",
       "<td>F</td>\n",
       "<td>2017-05-16</td>\n",
       "<td>cajal</td>\n",
       "<td>awake</td>\n",
       "<td>J2p1</td>\n",
       "<td>16x</td>\n",
       "<td>980.0</td>\n",
       "<td>32.0</td></tr><tr><td>1011</td>\n",
       "<td>2</td>\n",
       "<td>1</td>\n",
       "<td>mouse</td>\n",
       "<td>2017-04-02</td>\n",
       "<td>F</td>\n",
       "<td>2017-05-17</td>\n",
       "<td>wiesel</td>\n",
       "<td>awake</td>\n",
       "<td>J2p1</td>\n",
       "<td>25x</td>\n",
       "<td>960.0</td>\n",
       "<td>8.0</td></tr><tr><td>1011</td>\n",
       "<td>2</td>\n",
       "<td>2</td>\n",
       "<td>mouse</td>\n",
       "<td>2017-04-02</td>\n",
       "<td>F</td>\n",
       "<td>2017-05-17</td>\n",
       "<td>wiesel</td>\n",
       "<td>awake</td>\n",
       "<td>J2p1</td>\n",
       "<td>25x</td>\n",
       "<td>960.0</td>\n",
       "<td>32.0</td> </tr> </tbody>\n",
       "            </table>\n",
       "            <p>...</p>\n",
       "            <p>21 tuples</p></div>\n",
       "            "
      ],
      "text/plain": [
       "*animal_id    *session    *scan    species     date_of_birth  sex     session_date   username     anesthesia     rig      lens     laser_waveleng laser_power   \n",
       "+-----------+ +---------+ +------+ +---------+ +------------+ +-----+ +------------+ +----------+ +------------+ +------+ +------+ +------------+ +------------+\n",
       "1010          1           1        mouse       2017-04-01     M       2017-05-15     cajal        awake          J2p1     10x      960.0          18.5          \n",
       "1010          1           2        mouse       2017-04-01     M       2017-05-15     cajal        awake          J2p1     10x      960.0          18.5          \n",
       "1010          1           3        mouse       2017-04-01     M       2017-05-15     cajal        awake          J2p1     10x      960.0          40.0          \n",
       "1011          1           1        mouse       2017-04-02     F       2017-05-16     cajal        awake          J2p1     16x      980.0          32.0          \n",
       "1011          1           2        mouse       2017-04-02     F       2017-05-16     cajal        awake          J2p1     16x      980.0          32.0          \n",
       "1011          2           1        mouse       2017-04-02     F       2017-05-17     wiesel       awake          J2p1     25x      960.0          8.0           \n",
       "1011          2           2        mouse       2017-04-02     F       2017-05-17     wiesel       awake          J2p1     25x      960.0          32.0          \n",
       "   ...\n",
       " (21 tuples)"
      ]
     },
     "execution_count": 26,
     "metadata": {},
     "output_type": "execute_result"
    }
   ],
   "source": [
    "Animal()*Session()*Scan()"
   ]
  },
  {
   "cell_type": "code",
   "execution_count": null,
   "metadata": {
    "collapsed": true,
    "deletable": true,
    "editable": true
   },
   "outputs": [],
   "source": []
  }
 ],
 "metadata": {
  "kernelspec": {
   "display_name": "Python 3",
   "language": "python",
   "name": "python3"
  },
  "language_info": {
   "codemirror_mode": {
    "name": "ipython",
    "version": 3
   },
   "file_extension": ".py",
   "mimetype": "text/x-python",
   "name": "python",
   "nbconvert_exporter": "python",
   "pygments_lexer": "ipython3",
   "version": "3.5.2"
  }
 },
 "nbformat": 4,
 "nbformat_minor": 2
}
