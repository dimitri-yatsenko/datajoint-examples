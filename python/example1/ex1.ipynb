{
 "cells": [
  {
   "cell_type": "code",
   "execution_count": 16,
   "metadata": {
    "collapsed": false
   },
   "outputs": [],
   "source": [
    "import datajoint as dj\n",
    "import numpy as np"
   ]
  },
  {
   "cell_type": "code",
   "execution_count": 17,
   "metadata": {
    "collapsed": false
   },
   "outputs": [],
   "source": [
    "schema = dj.schema('dimitri_ex1', locals())"
   ]
  },
  {
   "cell_type": "code",
   "execution_count": 18,
   "metadata": {
    "collapsed": false
   },
   "outputs": [],
   "source": [
    "@schema\n",
    "class Experiment(dj.Manual):\n",
    "    definition = \"\"\"\n",
    "    # A generic experiment.\n",
    "    experiment : int\n",
    "    ----\n",
    "    \"\"\"\n",
    "\n",
    "    \n",
    "@schema\n",
    "class Set(dj.Imported):\n",
    "    definition = \"\"\"\n",
    "    # A way to group datasets per experiment\n",
    "    -> Experiment\n",
    "    -----\n",
    "    \"\"\" \n",
    "\n",
    "    class DataPoint(dj.Part):\n",
    "        definition = \"\"\"\n",
    "        # Raw collected data.\n",
    "        -> Set\n",
    "        datapoint : int \n",
    "        -----\n",
    "        x : float\n",
    "        y : float \n",
    "        \"\"\"\n",
    "        \n",
    "    def _make_tuples(self, key):\n",
    "        n = 10\n",
    "        mu = 0\n",
    "        sigma = .1\n",
    "        \n",
    "        self.insert1(key)\n",
    "        self.DataPoint().insert((\n",
    "            dict(key, \n",
    "                 datapoint=i, \n",
    "                 x=i, \n",
    "                 y=2*i + np.random.normal(mu, sigma)) \n",
    "                for i in range(n)))\n",
    "\n",
    "  \n",
    "    \n",
    "@schema\n",
    "class LinearModel(dj.Computed):\n",
    "    definition = \"\"\"\n",
    "    # fits line a DataCollection. y=mx+b form\n",
    "    -> Experiment\n",
    "    -----\n",
    "    m : float     # Slope\n",
    "    b : float     # intercept\n",
    "    \"\"\"    \n",
    "    def _make_tuples(self, key):\n",
    "        X, Y = (Set.DataPoint() & key).fetch['x', 'y']          \n",
    "        X = np.stack([X, np.ones_like(X)], axis=-1)\n",
    "        m, b = np.linalg.lstsq(X, Y)[0]        \n",
    "        self.insert1(dict(key, m=m, b=b))\n",
    "    \n",
    "    \n",
    "@schema\n",
    "class Stats(dj.Computed):\n",
    "    definition = \"\"\"\n",
    "    # Computes Mean Square Error and R2 for a particular Model\n",
    "    -> LinearModel\n",
    "    -----\n",
    "    mse : float         # The MSE value.\n",
    "    r2  : float         # R-squared of linear fit\n",
    "    \"\"\"    \n",
    "    def _make_tuples(self, key):\n",
    "        X, Y =  (Set.DataPoint() & key).fetch['x', 'y']\n",
    "        m, b = (LinearModel() & key).fetch1['m', 'b']\n",
    "        yCalc = X*m + b\n",
    "        self.insert1(\n",
    "            dict(key, \n",
    "                 mse=((Y - yCalc) ** 2).mean(axis=0), \n",
    "                 r2=1-np.sum((Y - yCalc)**2)/np.sum((Y - np.mean(Y))**2)))\n",
    "\n",
    "        \n",
    "#schema.spawn_missing_classes()"
   ]
  },
  {
   "cell_type": "code",
   "execution_count": 24,
   "metadata": {
    "collapsed": false
   },
   "outputs": [],
   "source": [
    "# Generate some data\n",
    "Experiment().insert(([1],[2],[3]), skip_duplicates=True)\n",
    "Set().populate()\n",
    "LinearModel().populate()\n",
    "Stats().populate()"
   ]
  },
  {
   "cell_type": "code",
   "execution_count": 26,
   "metadata": {
    "collapsed": false
   },
   "outputs": [
    {
     "data": {
      "text/html": [
       " <h3>Raw collected data.</h3>\n",
       "            <div style=\"max-height:1000px;max-width:1500px;overflow:auto;\">\n",
       "            <table border=\"1\" class=\"dataframe\">\n",
       "                <thead> <tr style=\"text-align: right;\"> <th> <em>experiment</em></th><th><em>datapoint</em></th><th>x</th><th>y </th> </tr> </thead>\n",
       "                <tbody> <tr> <td>1</td>\n",
       "<td>0</td>\n",
       "<td>0.0</td>\n",
       "<td>0.104471</td></tr><tr><td>1</td>\n",
       "<td>1</td>\n",
       "<td>1.0</td>\n",
       "<td>2.04742</td></tr><tr><td>1</td>\n",
       "<td>2</td>\n",
       "<td>2.0</td>\n",
       "<td>4.01147</td></tr><tr><td>1</td>\n",
       "<td>3</td>\n",
       "<td>3.0</td>\n",
       "<td>6.05707</td></tr><tr><td>1</td>\n",
       "<td>4</td>\n",
       "<td>4.0</td>\n",
       "<td>7.91878</td></tr><tr><td>1</td>\n",
       "<td>5</td>\n",
       "<td>5.0</td>\n",
       "<td>9.91739</td></tr><tr><td>1</td>\n",
       "<td>6</td>\n",
       "<td>6.0</td>\n",
       "<td>11.8811</td> </tr> </tbody>\n",
       "            </table>\n",
       "            <p>...</p>\n",
       "            <p>30 tuples</p></div>\n",
       "            "
      ],
      "text/plain": [
       "*experiment    *datapoint    x       y           \n",
       "+------------+ +-----------+ +-----+ +----------+\n",
       "1              0             0.0     0.104471    \n",
       "1              1             1.0     2.04742     \n",
       "1              2             2.0     4.01147     \n",
       "1              3             3.0     6.05707     \n",
       "1              4             4.0     7.91878     \n",
       "1              5             5.0     9.91739     \n",
       "1              6             6.0     11.8811     \n",
       "...\n",
       " (30 tuples)"
      ]
     },
     "execution_count": 26,
     "metadata": {},
     "output_type": "execute_result"
    }
   ],
   "source": [
    "Set.DataPoint()"
   ]
  },
  {
   "cell_type": "code",
   "execution_count": 25,
   "metadata": {
    "collapsed": false
   },
   "outputs": [
    {
     "data": {
      "text/html": [
       " <h3>Computes Mean Square Error and R2 for a particular Model</h3>\n",
       "            <div style=\"max-height:1000px;max-width:1500px;overflow:auto;\">\n",
       "            <table border=\"1\" class=\"dataframe\">\n",
       "                <thead> <tr style=\"text-align: right;\"> <th> <em>experiment</em></th><th>mse</th><th>r2 </th> </tr> </thead>\n",
       "                <tbody> <tr> <td>1</td>\n",
       "<td>0.00615429</td>\n",
       "<td>0.99981</td></tr><tr><td>2</td>\n",
       "<td>0.00743637</td>\n",
       "<td>0.999775</td></tr><tr><td>3</td>\n",
       "<td>0.00550032</td>\n",
       "<td>0.999833</td> </tr> </tbody>\n",
       "            </table>\n",
       "            \n",
       "            <p>3 tuples</p></div>\n",
       "            "
      ],
      "text/plain": [
       "*experiment    mse            r2          \n",
       "+------------+ +------------+ +----------+\n",
       "1              0.00615429     0.99981     \n",
       "2              0.00743637     0.999775    \n",
       "3              0.00550032     0.999833    \n",
       " (3 tuples)"
      ]
     },
     "execution_count": 25,
     "metadata": {},
     "output_type": "execute_result"
    }
   ],
   "source": [
    "Stats()"
   ]
  },
  {
   "cell_type": "code",
   "execution_count": null,
   "metadata": {
    "collapsed": true
   },
   "outputs": [],
   "source": []
  }
 ],
 "metadata": {
  "anaconda-cloud": {},
  "kernelspec": {
   "display_name": "Python 3",
   "language": "python",
   "name": "python3"
  },
  "language_info": {
   "codemirror_mode": {
    "name": "ipython",
    "version": 3
   },
   "file_extension": ".py",
   "mimetype": "text/x-python",
   "name": "python",
   "nbconvert_exporter": "python",
   "pygments_lexer": "ipython3",
   "version": "3.5.0"
  }
 },
 "nbformat": 4,
 "nbformat_minor": 0
}
