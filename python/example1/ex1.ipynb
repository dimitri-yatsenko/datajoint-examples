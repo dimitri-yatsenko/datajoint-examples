{
 "cells": [
  {
   "cell_type": "code",
   "execution_count": 1,
   "metadata": {
    "collapsed": false,
    "deletable": true,
    "editable": true
   },
   "outputs": [
    {
     "name": "stdout",
     "output_type": "stream",
     "text": [
      "Populating the interactive namespace from numpy and matplotlib\n",
      "DataJoint 0.4.1 (Oct 28, 2016)\n",
      "Loading local settings from /Users/dimitri/.datajoint_config.json\n",
      "Connecting dimitri@datajoint.ninai.org:3306\n"
     ]
    }
   ],
   "source": [
    "%pylab inline\n",
    "import datajoint as dj\n",
    "import numpy as np"
   ]
  },
  {
   "cell_type": "markdown",
   "metadata": {
    "deletable": true,
    "editable": true
   },
   "source": [
    "## create a database "
   ]
  },
  {
   "cell_type": "code",
   "execution_count": 2,
   "metadata": {
    "collapsed": false,
    "deletable": true,
    "editable": true
   },
   "outputs": [],
   "source": [
    "schema = dj.schema('dimitri_ex1', locals())"
   ]
  },
  {
   "cell_type": "markdown",
   "metadata": {
    "deletable": true,
    "editable": true
   },
   "source": [
    "## define tables"
   ]
  },
  {
   "cell_type": "code",
   "execution_count": 3,
   "metadata": {
    "collapsed": false,
    "deletable": true,
    "editable": true
   },
   "outputs": [],
   "source": [
    "@schema\n",
    "class Experiment(dj.Manual):\n",
    "    definition = \"\"\" # A simple experiment.\n",
    "    experiment : int\n",
    "    ----\n",
    "    \"\"\"\n",
    "\n",
    "    \n",
    "@schema\n",
    "class Set(dj.Imported):\n",
    "    definition = \"\"\"\n",
    "    # A set of datapoints\n",
    "    -> Experiment\n",
    "    -----\n",
    "    \"\"\" \n",
    "\n",
    "    class DataPoint(dj.Part):\n",
    "        definition = \"\"\"\n",
    "        # Collected data.\n",
    "        -> Set\n",
    "        datapoint : int \n",
    "        -----\n",
    "        x : float\n",
    "        y : float \n",
    "        \"\"\"\n",
    "        \n",
    "    def _make_tuples(self, key):\n",
    "        n = 10\n",
    "        mu = 0\n",
    "        sigma = .1\n",
    "        \n",
    "        self.insert1(key)\n",
    "        self.DataPoint().insert((\n",
    "            dict(key, \n",
    "                 datapoint=i, \n",
    "                 x=i + np.random.normal(mu, sigma), \n",
    "                 y=2*i + np.random.normal(mu, sigma)) \n",
    "                for i in range(n)))\n",
    "\n",
    "  \n",
    "    \n",
    "@schema\n",
    "class LinearModel(dj.Computed):\n",
    "    definition = \"\"\"\n",
    "    # fits line a DataCollection. y=mx+b form\n",
    "    -> Set\n",
    "    -----\n",
    "    m : float     # Slope\n",
    "    b : float     # intercept\n",
    "    \"\"\"    \n",
    "    def _make_tuples(self, key):\n",
    "        X, Y = (Set.DataPoint() & key).fetch['x', 'y']          \n",
    "        X = np.stack([X, np.ones_like(X)], axis=-1)\n",
    "        m, b = np.linalg.lstsq(X, Y)[0]        \n",
    "        self.insert1(dict(key, m=m, b=b))\n",
    "    \n",
    "    \n",
    "@schema\n",
    "class Stats(dj.Computed):\n",
    "    definition = \"\"\"\n",
    "    # Computes Mean Square Error and R2 for a particular Model\n",
    "    -> LinearModel\n",
    "    -----\n",
    "    mse : float         # The MSE value.\n",
    "    r2  : float         # R-squared of linear fit\n",
    "    \"\"\"    \n",
    "    def _make_tuples(self, key):\n",
    "        X, Y =  (Set.DataPoint() & key).fetch['x', 'y']\n",
    "        m, b = (LinearModel() & key).fetch1['m', 'b']\n",
    "        yCalc = X*m + b\n",
    "        self.insert1(\n",
    "            dict(key, \n",
    "                 mse=((Y - yCalc) ** 2).mean(axis=0), \n",
    "                 r2=1-np.sum((Y - yCalc)**2)/np.sum((Y - np.mean(Y))**2)))\n",
    "\n",
    "        \n",
    "#schema.spawn_missing_classes()"
   ]
  },
  {
   "cell_type": "markdown",
   "metadata": {
    "deletable": true,
    "editable": true
   },
   "source": [
    "## plot entity-relationship diagram"
   ]
  },
  {
   "cell_type": "code",
   "execution_count": 4,
   "metadata": {
    "collapsed": false,
    "deletable": true,
    "editable": true
   },
   "outputs": [
    {
     "data": {
      "image/png": "[encoded data removed]",
      "text/plain": [
       "<matplotlib.figure.Figure at 0x10673beb8>"
      ]
     },
     "metadata": {},
     "output_type": "display_data"
    }
   ],
   "source": [
    "dj.ERD(schema).draw()"
   ]
  },
  {
   "cell_type": "markdown",
   "metadata": {
    "deletable": true,
    "editable": true
   },
   "source": [
    "## populate data"
   ]
  },
  {
   "cell_type": "code",
   "execution_count": 5,
   "metadata": {
    "collapsed": false,
    "deletable": true,
    "editable": true
   },
   "outputs": [],
   "source": [
    "# Generate some data\n",
    "Experiment().insert(([1],[2],[3]), skip_duplicates=True)\n",
    "Set().populate()\n",
    "LinearModel().populate()\n",
    "Stats().populate()"
   ]
  },
  {
   "cell_type": "code",
   "execution_count": 6,
   "metadata": {
    "collapsed": false,
    "deletable": true,
    "editable": true
   },
   "outputs": [
    {
     "data": {
      "text/html": [
       " <h3>Collected data.</h3>\n",
       "            <div style=\"max-height:1000px;max-width:1500px;overflow:auto;\">\n",
       "            <table border=\"1\" class=\"dataframe\">\n",
       "                <thead> <tr style=\"text-align: right;\"> <th> <em>experiment</em></th><th><em>datapoint</em></th><th>x</th><th>y </th> </tr> </thead>\n",
       "                <tbody> <tr> <td>1</td>\n",
       "<td>0</td>\n",
       "<td>-0.142984</td>\n",
       "<td>0.0652298</td></tr><tr><td>1</td>\n",
       "<td>1</td>\n",
       "<td>0.961803</td>\n",
       "<td>2.18967</td></tr><tr><td>1</td>\n",
       "<td>2</td>\n",
       "<td>2.05107</td>\n",
       "<td>3.77525</td></tr><tr><td>1</td>\n",
       "<td>3</td>\n",
       "<td>3.20669</td>\n",
       "<td>5.87526</td></tr><tr><td>1</td>\n",
       "<td>4</td>\n",
       "<td>3.9708</td>\n",
       "<td>7.86246</td></tr><tr><td>1</td>\n",
       "<td>5</td>\n",
       "<td>5.00483</td>\n",
       "<td>9.97459</td></tr><tr><td>1</td>\n",
       "<td>6</td>\n",
       "<td>6.00967</td>\n",
       "<td>11.808</td> </tr> </tbody>\n",
       "            </table>\n",
       "            <p>...</p>\n",
       "            <p>30 tuples</p></div>\n",
       "            "
      ],
      "text/plain": [
       "*experiment    *datapoint    x             y            \n",
       "+------------+ +-----------+ +-----------+ +-----------+\n",
       "1              0             -0.142984     0.0652298    \n",
       "1              1             0.961803      2.18967      \n",
       "1              2             2.05107       3.77525      \n",
       "1              3             3.20669       5.87526      \n",
       "1              4             3.9708        7.86246      \n",
       "1              5             5.00483       9.97459      \n",
       "1              6             6.00967       11.808       \n",
       "...\n",
       " (30 tuples)"
      ]
     },
     "execution_count": 6,
     "metadata": {},
     "output_type": "execute_result"
    }
   ],
   "source": [
    "Set.DataPoint()"
   ]
  },
  {
   "cell_type": "code",
   "execution_count": 7,
   "metadata": {
    "collapsed": false,
    "deletable": true,
    "editable": true
   },
   "outputs": [
    {
     "data": {
      "text/html": [
       " <h3>Computes Mean Square Error and R2 for a particular Model</h3>\n",
       "            <div style=\"max-height:1000px;max-width:1500px;overflow:auto;\">\n",
       "            <table border=\"1\" class=\"dataframe\">\n",
       "                <thead> <tr style=\"text-align: right;\"> <th> <em>experiment</em></th><th>mse</th><th>r2 </th> </tr> </thead>\n",
       "                <tbody> <tr> <td>1</td>\n",
       "<td>0.0761928</td>\n",
       "<td>0.997697</td></tr><tr><td>2</td>\n",
       "<td>0.0409618</td>\n",
       "<td>0.998756</td></tr><tr><td>3</td>\n",
       "<td>0.019036</td>\n",
       "<td>0.999423</td> </tr> </tbody>\n",
       "            </table>\n",
       "            \n",
       "            <p>3 tuples</p></div>\n",
       "            "
      ],
      "text/plain": [
       "*experiment    mse           r2          \n",
       "+------------+ +-----------+ +----------+\n",
       "1              0.0761928     0.997697    \n",
       "2              0.0409618     0.998756    \n",
       "3              0.019036      0.999423    \n",
       " (3 tuples)"
      ]
     },
     "execution_count": 7,
     "metadata": {},
     "output_type": "execute_result"
    }
   ],
   "source": [
    "Stats()"
   ]
  },
  {
   "cell_type": "markdown",
   "metadata": {
    "deletable": true,
    "editable": true
   },
   "source": [
    "## Drop all tables "
   ]
  },
  {
   "cell_type": "code",
   "execution_count": 8,
   "metadata": {
    "collapsed": false,
    "deletable": true,
    "editable": true
   },
   "outputs": [
    {
     "name": "stdout",
     "output_type": "stream",
     "text": [
      "`dimitri_ex1`.`experiment` (3 tuples)\n",
      "`dimitri_ex1`.`_set` (3 tuples)\n",
      "`dimitri_ex1`.`__linear_model` (3 tuples)\n",
      "`dimitri_ex1`.`_set__data_point` (30 tuples)\n",
      "`dimitri_ex1`.`__stats` (3 tuples)\n",
      "Proceed? [yes, No]: yes\n",
      "Tables dropped.  Restart kernel.\n"
     ]
    }
   ],
   "source": [
    "Experiment().drop()"
   ]
  }
 ],
 "metadata": {
  "anaconda-cloud": {},
  "kernelspec": {
   "display_name": "Python 3",
   "language": "python",
   "name": "python3"
  },
  "language_info": {
   "codemirror_mode": {
    "name": "ipython",
    "version": 3
   },
   "file_extension": ".py",
   "mimetype": "text/x-python",
   "name": "python",
   "nbconvert_exporter": "python",
   "pygments_lexer": "ipython3",
   "version": "3.5.2"
  }
 },
 "nbformat": 4,
 "nbformat_minor": 0
}
