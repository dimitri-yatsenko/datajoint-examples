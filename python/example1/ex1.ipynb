{
 "cells": [
  {
   "cell_type": "code",
   "execution_count": 1,
   "metadata": {
    "collapsed": false
   },
   "outputs": [
    {
     "name": "stdout",
     "output_type": "stream",
     "text": [
      "DataJoint 0.4.1 (Oct 28, 2016)\n",
      "Loading local settings from environment variables\n",
      "Connecting edgera@localhost:3306\n"
     ]
    }
   ],
   "source": [
    "import datajoint as dj\n",
    "import numpy as np"
   ]
  },
  {
   "cell_type": "code",
   "execution_count": 2,
   "metadata": {
    "collapsed": false
   },
   "outputs": [],
   "source": [
    "#dj.conn()"
   ]
  },
  {
   "cell_type": "code",
   "execution_count": 3,
   "metadata": {
    "collapsed": false
   },
   "outputs": [],
   "source": [
    "schema = dj.schema('ex1', locals())"
   ]
  },
  {
   "cell_type": "code",
   "execution_count": 4,
   "metadata": {
    "collapsed": false
   },
   "outputs": [],
   "source": [
    "@schema\n",
    "class Experiment(dj.Manual):\n",
    "    definition = \"\"\"\n",
    "    ex1.Experiment (manual)     # A generic experiment.\n",
    "    experiment_id : int\n",
    "    ----\n",
    "    \"\"\"\n",
    "\n",
    "    \n",
    "@schema\n",
    "class DataCollection(dj.Manual):\n",
    "    definition = \"\"\"\n",
    "    # A way to group datasets per experiment\n",
    "    -> ex1.Experiment\n",
    "    datacollection_id : int     # Unique identifier for the dataset.\n",
    "    -----\n",
    "    \"\"\"\n",
    " \n",
    "\n",
    "@schema\n",
    "class RawData(dj.Manual):\n",
    "    definition = \"\"\"\n",
    "    # Raw collected data.\n",
    "    -> ex1.DataCollection\n",
    "    data_id : int           # A unique data instance id.\n",
    "    -----\n",
    "    x : float\n",
    "    y : float \n",
    "    \"\"\"\n",
    "  \n",
    "    \n",
    "@schema\n",
    "class LinearModel(dj.Computed):\n",
    "    definition = \"\"\"\n",
    "    # fits line a DataCollection. y=mx+b form\n",
    "    -> ex1.DataCollection\n",
    "    -----\n",
    "    m : float     # Slope\n",
    "    b : float     # intercept\n",
    "    \"\"\"\n",
    "    @property\n",
    "    def populated_from(self):\n",
    "        print('ey yo')\n",
    "        return RawData\n",
    "    \n",
    "    def _make_tuples(self, key):\n",
    "        rel =  RawData() & key\n",
    "        data = rel.fetch()  \n",
    "        \n",
    "        X = np.array([tup[3] for tup in data])\n",
    "        Y = np.array([tup[4] for tup in data])\n",
    "        \n",
    "        A = np.vstack([X, np.ones(len(X))]).T\n",
    "        m, b = np.linalg.lstsq(A, Y)[0]\n",
    "        \n",
    "        \n",
    "        tup = key\n",
    "        tup['m'] = m\n",
    "        tup['b'] = b\n",
    "        self.insert1(tup)\n",
    "    \n",
    "    \n",
    "@schema\n",
    "class MSE(dj.Computed):\n",
    "    definition = \"\"\"\n",
    "    # Computes Mean Square Error for a particular Model\n",
    "    -> ex1.LinearModel\n",
    "    -----\n",
    "    val : float         # The MSE value.\n",
    "    \"\"\"\n",
    "    @property\n",
    "    def populated_from(self):\n",
    "        return LinearModel\n",
    "    \n",
    "    def _make_tuples(self, key):\n",
    "        rel =  RawData() & key\n",
    "        data = rel.fetch()  \n",
    "        \n",
    "        X = np.array([tup[3] for tup in data])\n",
    "        Y = np.array([tup[4] for tup in data])\n",
    "        \n",
    "        rel = LinearModel() & key\n",
    "        model = rel.fetch1()\n",
    "        \n",
    "        yCalc = X*model['m'] + model['b']\n",
    "        mse = ((Y - yCalc) ** 2).mean(axis=0)\n",
    "\n",
    "        tup = key\n",
    "        tup['val'] = mse\n",
    "        self.insert1(tup)\n",
    "\n",
    "    \n",
    "@schema\n",
    "class R2(dj.Computed):\n",
    "    definition = \"\"\"\n",
    "    # Computes Mean Square Error for a particular Model\n",
    "    -> ex1.LinearModel\n",
    "    -----\n",
    "    val : float         # The MSE value.\n",
    "    \"\"\"\n",
    "    @property\n",
    "    def populated_from(self):\n",
    "        return LinearModel\n",
    "    \n",
    "    def _make_tuples(self, key):\n",
    "        rel =  RawData() & key\n",
    "        data = rel.fetch()  \n",
    "        \n",
    "        X = np.array([tup[3] for tup in data])\n",
    "        Y = np.array([tup[4] for tup in data])\n",
    "        \n",
    "        rel = LinearModel() & key\n",
    "        model = rel.fetch1()\n",
    "        \n",
    "        yCalc = X*model['m'] + model['b']\n",
    "        r2  = 1-np.sum((Y - yCalc)**2)/np.sum((Y - np.mean(Y))**2)\n",
    "       \n",
    "        tup = key\n",
    "        tup['val'] = r2\n",
    "        self.insert1(tup)\n",
    "        \n",
    "#schema.spawn_missing_classes()"
   ]
  },
  {
   "cell_type": "code",
   "execution_count": 5,
   "metadata": {
    "collapsed": false
   },
   "outputs": [],
   "source": [
    "# Generate some data\n",
    "Experiment().insert1(dict(experiment_id=1))\n",
    "DataCollection().insert1([1,1])\n",
    "\n",
    "n_data = 10\n",
    "X = np.random.randint(10, size=n_data)\n",
    "Y = np.zeros(n_data)\n",
    "mu = 0\n",
    "sigma = .1\n",
    "\n",
    "for i in range(n_data):\n",
    "    Y[i] = 2 * X[i] + np.random.normal(mu, sigma)\n",
    "    RawData().insert1([1, 1, i+1, X[i], Y[i]])\n",
    "\n",
    "LinearModel().populate()\n",
    "MSE().populate()\n",
    "R2().populate()\n"
   ]
  },
  {
   "cell_type": "code",
   "execution_count": 6,
   "metadata": {
    "collapsed": false
   },
   "outputs": [
    {
     "name": "stdout",
     "output_type": "stream",
     "text": [
      "The contents of the following tables are about to be deleted:\n",
      "`ex1`.`experiment` (1 tuples)\n",
      "`ex1`.`data_collection` (1 tuples)\n",
      "`ex1`.`__linear_model` (1 tuples)\n",
      "`ex1`.`__m_s_e` (1 tuples)\n",
      "`ex1`.`__r2` (1 tuples)\n",
      "`ex1`.`raw_data` (10 tuples)\n",
      "Proceed? [yes, No]: yes\n",
      "Done\n"
     ]
    }
   ],
   "source": [
    "Experiment().delete()"
   ]
  },
  {
   "cell_type": "code",
   "execution_count": null,
   "metadata": {
    "collapsed": true
   },
   "outputs": [],
   "source": []
  }
 ],
 "metadata": {
  "anaconda-cloud": {},
  "kernelspec": {
   "display_name": "Python [conda env:py35]",
   "language": "python",
   "name": "conda-env-py35-py"
  },
  "language_info": {
   "codemirror_mode": {
    "name": "ipython",
    "version": 3
   },
   "file_extension": ".py",
   "mimetype": "text/x-python",
   "name": "python",
   "nbconvert_exporter": "python",
   "pygments_lexer": "ipython3",
   "version": "3.5.2"
  }
 },
 "nbformat": 4,
 "nbformat_minor": 0
}
